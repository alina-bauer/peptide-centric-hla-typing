{
 "cells": [
  {
   "cell_type": "markdown",
   "metadata": {},
   "source": [
    "### Collect data to input into Gibbs Cluster 2.0\n",
    "- not consider peptides that have an Place Holder X in their amino acid sequence because Gibbs Cluster can't handle this.\n",
    "- only the monoallelic peptides"
   ]
  },
  {
   "cell_type": "code",
   "execution_count": 1,
   "metadata": {},
   "outputs": [],
   "source": [
    "import pandas as pd\n",
    "import os"
   ]
  },
  {
   "cell_type": "code",
   "execution_count": 2,
   "metadata": {},
   "outputs": [],
   "source": [
    "class DataSet:\n",
    "    def __init__(self):\n",
    "        \"\"\"\n",
    "        Initializes the dataset object.\n",
    "        The mode is set to ABC by default meaning to only look at MHC alleles starting with A, B or C (not E, G).\n",
    "\n",
    "        \"\"\"\n",
    "        self.dataframe = pd.DataFrame({'Allele': [], 'Peptide': [], 'Source': []})\n",
    "        self.mode = \"ABC\"\n",
    "\n",
    "    def get_dataframe(self):\n",
    "        return self.dataframe\n",
    "\n",
    "    def add_dfs_to_dataset(self, paths, sources, seps):\n",
    "        \"\"\"\n",
    "        Adds dataframes to dataset object, assumes datsets are annotated with Allele(seperator)Peptide.\n",
    "        Gets you a datset with Allele Peptide and Source column\n",
    "\n",
    "        Args:\n",
    "            paths (list): list of paths to dataframes\n",
    "            sources (list): list of Sources of dataframes (if you want to annotate where the data comes from)\n",
    "            seps (list): list of seperators of dataframes\n",
    "        \n",
    "        \"\"\"\n",
    "        assert len(paths) == len(sources) == len(seps)\n",
    "        assert len(self.dataframe) == 0\n",
    "        assert len(paths) > 0\n",
    "        \n",
    "        df_list = []\n",
    "        for i,path in enumerate(paths):\n",
    "            df = pd.read_csv(path, sep=seps[i])\n",
    "            #remove duplicates input df\n",
    "            df = df.drop_duplicates(subset=['Allele','Peptide'], keep='first')\n",
    "            df['Source'] = sources[i]\n",
    "            df_list.append(df)\n",
    "        joined_df = pd.concat(df_list)\n",
    "        joined_df = joined_df.drop_duplicates(subset=['Allele','Peptide'], keep='first')\n",
    "        joined_df = joined_df[joined_df['Allele'].str.startswith('A') | joined_df['Allele'].str.startswith('B') | joined_df['Allele'].str.startswith('C')]\n",
    "        self.dataframe = joined_df\n",
    "    \n",
    "    def cleanup_peptide(self):\n",
    "        \"\"\"\n",
    "        removes peptide annotation: AYSSY(Oxidation)KIIK -> AYSSYKIIK.\n",
    "\n",
    "        \"\"\"\n",
    "        self.dataframe[\"Peptide\"] = self.dataframe[\"Peptide\"].str.replace(r\"\\(.*\\)\",\"\", regex=True)"
   ]
  },
  {
   "cell_type": "code",
   "execution_count": 4,
   "metadata": {},
   "outputs": [],
   "source": [
    "binders = DataSet()\n",
    "binders.add_dfs_to_dataset(paths=['../../../DATA/data_readout_final/1_readout_data_mhcmotifatlas_classI_MS_Peptides_all_peptides.csv', \n",
    "                                    '../../../DATA/data_readout_final/2_1readout_data_MSV000084172_2016.csv',\n",
    "                                    '../../../DATA/data_readout_final/2_2readout_data_MSV000084172_2017.csv',\n",
    "                                    '../../../DATA/data_readout_final/3_1readout_data_MSV000090323_batch12.csv',\n",
    "                                    '../../../DATA/data_readout_final/3_2readout_data_MSV000090323_batch15.csv',\n",
    "                                    '../../../DATA/data_readout_final/4_readout_data_PXD009531.csv',\n",
    "                                    '../../../DATA/data_readout_final/5_1breadout_data_netmhcpan_binder.csv',\n",
    "                                    '../../../DATA/data_readout_final/mhcflurry_data.csv'], \n",
    "                            sources=['mhcmotifatlas',\n",
    "                                    'msv84172_2016',\n",
    "                                    'msv84172_2017',\n",
    "                                    'msv90323_12',\n",
    "                                    'msv90323_15',\n",
    "                                    'pxd9531',\n",
    "                                    'netmhcpan_binder',\n",
    "                                    'mhcflurry'],\n",
    "                            seps=['\\t']*8)\n",
    "binders.cleanup_peptide()"
   ]
  },
  {
   "cell_type": "code",
   "execution_count": null,
   "metadata": {},
   "outputs": [],
   "source": [
    "binder_df = binders.get_dataframe()\n",
    "\n",
    "for allele, group_df in binder_df.groupby('Allele'):\n",
    "    peptides = group_df['Peptide'].tolist()\n",
    "    \n",
    "    # Write to a txt file\n",
    "    with open(f'gibbs-input/{allele}.txt', 'w') as file:\n",
    "        file.write('\\n'.join(peptides))"
   ]
  },
  {
   "cell_type": "markdown",
   "metadata": {},
   "source": [
    "### Run Gibbs Cluster 2.0 for every allele\n",
    "\n",
    "Cite: Andreatta M, Alvarez B, Nielsen M. GibbsCluster: unsupervised clustering and alignment of peptide sequences. Nucleic Acids Res. 2017 Jul 3;45(W1):W458-W463. doi: 10.1093/nar/gkx248. PMID: 28407089; PMCID: PMC5570237."
   ]
  },
  {
   "cell_type": "code",
   "execution_count": null,
   "metadata": {},
   "outputs": [
    {
     "name": "stdout",
     "output_type": "stream",
     "text": [
      "../gibbscluster -f ../gibbs-input/A0101.txt -g 1 -D 4 -I 1 -S 5 -j 2 -T -C -P A0101_final\n"
     ]
    }
   ],
   "source": [
    "allele_name = 'A0101'\n",
    "command = f'../gibbscluster -f ../gibbs-input/{allele_name}.txt -g 1 -D 4 -I 1 -S 5 -j 2 -T -C -P {allele_name}_final'\n",
    "print(command)"
   ]
  },
  {
   "cell_type": "markdown",
   "metadata": {},
   "source": [
    "# Generate filtered peptides dictionary from Gibbs Output\n",
    "Move this into the Gibbs Output folder."
   ]
  },
  {
   "cell_type": "code",
   "execution_count": null,
   "metadata": {},
   "outputs": [],
   "source": [
    "OUTPUT_FOLDER = '../../../DATA/gibbs-output'\n",
    "\n",
    "filtered_peptides = {}\n",
    "\n",
    "#generate paths to output files with filtered peptides\n",
    "files_in_directory = [f for f in os.listdir('../'+OUTPUT_FOLDER) if os.path.isdir(os.path.join('../'+OUTPUT_FOLDER, f))]\n",
    "list_of_dicts = files_in_directory\n",
    "for i, server_output_folder in enumerate(files_in_directory):\n",
    "    folders_in_directory = [f for f in os.listdir(server_output_folder) if os.path.isdir(os.path.join(server_output_folder, f))]\n",
    "    list_of_dicts[i] = list_of_dicts[i] + '/res/gibbs.1g.out'\n",
    "\n",
    "#iterating through outputs and collecting filtered peptides in dictionary\n",
    "for i, data_allele in enumerate(list_of_dicts):\n",
    "    if len(data_allele) > 20:\n",
    "        corresponding_allele = data_allele.split('_final')[0]\n",
    "        peptides = []\n",
    "        try:\n",
    "            with open(data_allele, 'r') as file:\n",
    "                for line in file:\n",
    "                    if line.startswith('#Trash'):\n",
    "                        peptides.append(line.split()[1])\n",
    "        except:\n",
    "            print(f'No output file for this allele: {corresponding_allele}')\n",
    "        filtered_peptides[corresponding_allele] = peptides\n",
    "\n",
    "#write filtered peptides to a file to use for input in allele associated datase run\n",
    "with open('filtered_peptides.txt', 'w') as file:\n",
    "    file.write(str(filtered_peptides))"
   ]
  }
 ],
 "metadata": {
  "kernelspec": {
   "display_name": "Python 3",
   "language": "python",
   "name": "python3"
  },
  "language_info": {
   "codemirror_mode": {
    "name": "ipython",
    "version": 3
   },
   "file_extension": ".py",
   "mimetype": "text/x-python",
   "name": "python",
   "nbconvert_exporter": "python",
   "pygments_lexer": "ipython3",
   "version": "3.12.0"
  }
 },
 "nbformat": 4,
 "nbformat_minor": 2
}
