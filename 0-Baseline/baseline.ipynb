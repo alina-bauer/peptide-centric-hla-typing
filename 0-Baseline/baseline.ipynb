{
 "cells": [
  {
   "cell_type": "markdown",
   "metadata": {},
   "source": [
    "# Baseline with 6 most probable alleles in German population"
   ]
  },
  {
   "cell_type": "code",
   "execution_count": 9,
   "metadata": {},
   "outputs": [],
   "source": [
    "#for analysis\n",
    "import pandas as pd\n",
    "pd.options.mode.chained_assignment = None\n",
    "import numpy as np\n",
    "\n",
    "#for logging\n",
    "import logging\n",
    "logging.basicConfig(level=logging.INFO)\n",
    "logging.getLogger('matplotlib.font_manager').disabled = True"
   ]
  },
  {
   "cell_type": "markdown",
   "metadata": {},
   "source": [
    "### Parameters for NetMHCpan Run"
   ]
  },
  {
   "cell_type": "code",
   "execution_count": 10,
   "metadata": {},
   "outputs": [],
   "source": [
    "#use cleaned db: adjusted to our use case (778 donors out of all)\n",
    "PATH_TO_TUEDB = '../../DATA/db_dump_311023_cleaned.tsv'\n",
    "PATH_TO_ALL_TUEDB_ALLELES = '../../DATA/all_tuedb_alleles.txt'\n",
    "PATH_TO_NETMHCPAN_INPUT_FOLDER = '../../DATA/epitopeprediction-input'\n",
    "PATH_TO_SAMPLESHEET = f'{PATH_TO_NETMHCPAN_INPUT_FOLDER}/samplesheet.csv'\n",
    "PATH_TO_ALLELE_FREQUENCY = '../../DATA/dkms_allele_freq_german.tsv'"
   ]
  },
  {
   "cell_type": "markdown",
   "metadata": {},
   "source": [
    "### Load TuedDB Database for Patients (peptide list and HLA typing)\n",
    "This is how the tuedb database dataframe looks like."
   ]
  },
  {
   "cell_type": "code",
   "execution_count": 11,
   "metadata": {},
   "outputs": [
    {
     "data": {
      "text/html": [
       "<div>\n",
       "<style scoped>\n",
       "    .dataframe tbody tr th:only-of-type {\n",
       "        vertical-align: middle;\n",
       "    }\n",
       "\n",
       "    .dataframe tbody tr th {\n",
       "        vertical-align: top;\n",
       "    }\n",
       "\n",
       "    .dataframe thead th {\n",
       "        text-align: right;\n",
       "    }\n",
       "</style>\n",
       "<table border=\"1\" class=\"dataframe\">\n",
       "  <thead>\n",
       "    <tr style=\"text-align: right;\">\n",
       "      <th></th>\n",
       "      <th>peptide_sequence</th>\n",
       "      <th>donor_code</th>\n",
       "      <th>all_hla_alleles_donor</th>\n",
       "      <th>mhc_class</th>\n",
       "      <th>peptide_modifications</th>\n",
       "      <th>no_alleles</th>\n",
       "    </tr>\n",
       "  </thead>\n",
       "  <tbody>\n",
       "    <tr>\n",
       "      <th>6646695</th>\n",
       "      <td>TTDLFGRDLSY</td>\n",
       "      <td>04-001</td>\n",
       "      <td>['A0101', 'A2402', 'B0801', 'B1402', 'C0701', ...</td>\n",
       "      <td>I</td>\n",
       "      <td>NaN</td>\n",
       "      <td>6</td>\n",
       "    </tr>\n",
       "    <tr>\n",
       "      <th>6646540</th>\n",
       "      <td>AYLEAHETF</td>\n",
       "      <td>04-001</td>\n",
       "      <td>['A0101', 'A2402', 'B0801', 'B1402', 'C0701', ...</td>\n",
       "      <td>I</td>\n",
       "      <td>NaN</td>\n",
       "      <td>6</td>\n",
       "    </tr>\n",
       "    <tr>\n",
       "      <th>6646539</th>\n",
       "      <td>NRFQIATV</td>\n",
       "      <td>04-001</td>\n",
       "      <td>['A0101', 'A2402', 'B0801', 'B1402', 'C0701', ...</td>\n",
       "      <td>I</td>\n",
       "      <td>NaN</td>\n",
       "      <td>6</td>\n",
       "    </tr>\n",
       "    <tr>\n",
       "      <th>6646538</th>\n",
       "      <td>TAASRLVTL</td>\n",
       "      <td>04-001</td>\n",
       "      <td>['A0101', 'A2402', 'B0801', 'B1402', 'C0701', ...</td>\n",
       "      <td>I</td>\n",
       "      <td>NaN</td>\n",
       "      <td>6</td>\n",
       "    </tr>\n",
       "    <tr>\n",
       "      <th>6646537</th>\n",
       "      <td>FTDVRAAVY</td>\n",
       "      <td>04-001</td>\n",
       "      <td>['A0101', 'A2402', 'B0801', 'B1402', 'C0701', ...</td>\n",
       "      <td>I</td>\n",
       "      <td>NaN</td>\n",
       "      <td>6</td>\n",
       "    </tr>\n",
       "  </tbody>\n",
       "</table>\n",
       "</div>"
      ],
      "text/plain": [
       "        peptide_sequence donor_code  \\\n",
       "6646695      TTDLFGRDLSY     04-001   \n",
       "6646540        AYLEAHETF     04-001   \n",
       "6646539         NRFQIATV     04-001   \n",
       "6646538        TAASRLVTL     04-001   \n",
       "6646537        FTDVRAAVY     04-001   \n",
       "\n",
       "                                     all_hla_alleles_donor mhc_class  \\\n",
       "6646695  ['A0101', 'A2402', 'B0801', 'B1402', 'C0701', ...         I   \n",
       "6646540  ['A0101', 'A2402', 'B0801', 'B1402', 'C0701', ...         I   \n",
       "6646539  ['A0101', 'A2402', 'B0801', 'B1402', 'C0701', ...         I   \n",
       "6646538  ['A0101', 'A2402', 'B0801', 'B1402', 'C0701', ...         I   \n",
       "6646537  ['A0101', 'A2402', 'B0801', 'B1402', 'C0701', ...         I   \n",
       "\n",
       "        peptide_modifications  no_alleles  \n",
       "6646695                   NaN           6  \n",
       "6646540                   NaN           6  \n",
       "6646539                   NaN           6  \n",
       "6646538                   NaN           6  \n",
       "6646537                   NaN           6  "
      ]
     },
     "execution_count": 11,
     "metadata": {},
     "output_type": "execute_result"
    }
   ],
   "source": [
    "tuedb_df = pd.read_csv(PATH_TO_TUEDB, sep='\\t', index_col=0)\n",
    "tuedb_df = tuedb_df.sort_values(by=['donor_code'])\n",
    "tuedb_df.head()"
   ]
  },
  {
   "cell_type": "markdown",
   "metadata": {},
   "source": [
    "### Fetch Allele frequency\n",
    "\n",
    "Germany DKMS - German donors mit n = 3,456,066\n",
    "The german dataset is by far the largest allele frequency dataset, which is why I chose it.\n",
    "\n",
    "Download the allele frequencies for the DKMS dataset on allelefrequencies.net\n",
    "Select Settings: Locus: All loci, Population: Germany DKMS - German donors (n=3,456,066)\n",
    "Search with Button: Use printer-friendly version.\n",
    "\n",
    "Or use Downloadlink: http://allelefrequencies.net/hla6006a_scr.asp?hla_locus=&hla_locus_type=Classical&hla_allele1=&hla_allele2=&hla_selection=&hla_pop_selection=&hla_population=3767&hla_country=&hla_dataset=&hla_region=&hla_ethnic=&hla_study=&hla_sample_size=&hla_sample_size_pattern=equal&hla_sample_year=&hla_sample_year_pattern=equal&hla_level=&hla_level_pattern=equal&hla_show=&hla_order=order_1&standard=a\n",
    "\n",
    "\n",
    "Cite: Gonzalez-Galarza FF, McCabe A, Santos EJMD, Jones J, Takeshita L, Ortega-Rivera ND, Cid-Pavon GMD, Ramsbottom K, Ghattaoraya G, Alfirevic A, Middleton D, Jones AR. Allele frequency net database (AFND) 2020 update: gold-standard data classification, open access genotype data and new query tools. Nucleic Acids Res. 2020 Jan 8;48(D1):D783-D788. doi: 10.1093/nar/gkz1029. PMID: 31722398; PMCID: PMC7145554."
   ]
  },
  {
   "cell_type": "code",
   "execution_count": 12,
   "metadata": {},
   "outputs": [],
   "source": [
    "#read out the allele frequencies\n",
    "allele_freq_df = pd.read_csv(PATH_TO_ALLELE_FREQUENCY, sep='\\t')\n",
    "allele_freq_dict = dict(zip(allele_freq_df['Allele'], allele_freq_df['Allele Frequency']))\n",
    "\n",
    "#load txt file with all alleles from tuedb\n",
    "all_tuedb_alleles = np.loadtxt(PATH_TO_ALL_TUEDB_ALLELES, dtype=str)\n",
    "\n",
    "# Update the allele_freq_dict with missing alleles and set frequency to 0\n",
    "for allele in all_tuedb_alleles:\n",
    "    allele_freq_dict.setdefault(allele, 0)\n",
    "\n",
    "sum_allele_freq_dict = sum(allele_freq_dict.values())"
   ]
  },
  {
   "cell_type": "markdown",
   "metadata": {},
   "source": [
    "### Get most probable German Alleles"
   ]
  },
  {
   "cell_type": "code",
   "execution_count": 13,
   "metadata": {},
   "outputs": [
    {
     "name": "stdout",
     "output_type": "stream",
     "text": [
      "The most probable alleles in Germany are: ['A*02:01', 'A*01:01', 'B*07:02', 'B*08:01', 'C*07:01', 'C*07:02']\n"
     ]
    }
   ],
   "source": [
    "allele_freq_dict_a = {}\n",
    "allele_freq_dict_b = {}\n",
    "allele_freq_dict_c = {}\n",
    "\n",
    "for key, value in allele_freq_dict.items():\n",
    "    if key.startswith('A'):\n",
    "        allele_freq_dict_a[key] = value\n",
    "    elif key.startswith('B'):\n",
    "        allele_freq_dict_b[key] = value\n",
    "    elif key.startswith('C'):\n",
    "        allele_freq_dict_c[key] = value\n",
    "\n",
    "# Get top 2 items for each dictionary\n",
    "top_two_a = sorted(allele_freq_dict_a.items(), key=lambda x: x[1], reverse=True)[:2]\n",
    "top_two_b = sorted(allele_freq_dict_b.items(), key=lambda x: x[1], reverse=True)[:2]\n",
    "top_two_c = sorted(allele_freq_dict_c.items(), key=lambda x: x[1], reverse=True)[:2]\n",
    "\n",
    "keys_a = [item[0] for item in top_two_a]\n",
    "keys_b = [item[0] for item in top_two_b]\n",
    "keys_c = [item[0] for item in top_two_c]\n",
    "\n",
    "# Combining all keys into one list\n",
    "most_probable_german_alleles = keys_a + keys_b + keys_c\n",
    "print(f'The most probable alleles in Germany are: {most_probable_german_alleles}')"
   ]
  },
  {
   "cell_type": "code",
   "execution_count": 14,
   "metadata": {},
   "outputs": [],
   "source": [
    "def bruteforce_most_probable_alleles(tp_alleles: list, most_probable_german_alleles: list) -> float:\n",
    "    \"\"\"\n",
    "    Perform a brute-force prediction with the 6 most common alleles in german population\n",
    "\n",
    "    Args:\n",
    "        tp_alleles (list): List of experimentally typed alleles for the donor.\n",
    "        most_probable_german_alleles (list): List of most probable German HLA alleles.\n",
    "\n",
    "    Returns:\n",
    "        float: Percentage of correctly predicted alleles based on the experimentally typed alleles.\n",
    "    \"\"\"\n",
    "    prediction = most_probable_german_alleles\n",
    "    match = 0\n",
    "    for allele in tp_alleles:\n",
    "        if allele in prediction:\n",
    "            match += 1\n",
    "    match_of_prediction = match / len(tp_alleles)\n",
    "    logging.debug(f'Prediction matching with {round(match_of_prediction*100,2)} %')\n",
    "\n",
    "    return match_of_prediction"
   ]
  },
  {
   "cell_type": "markdown",
   "metadata": {},
   "source": [
    "### Main\n",
    "#### Settings"
   ]
  },
  {
   "cell_type": "code",
   "execution_count": 15,
   "metadata": {},
   "outputs": [],
   "source": [
    "ONLY_2_DIGIT = False"
   ]
  },
  {
   "cell_type": "code",
   "execution_count": 16,
   "metadata": {},
   "outputs": [
    {
     "name": "stdout",
     "output_type": "stream",
     "text": [
      "On average (only looking at 4 and 5 and 6 allele donors) 28.64 % of alleles from 753 donors with 4 or 5 or 6 alleles were predicted correctly.\n"
     ]
    }
   ],
   "source": [
    "tuedb_samplesheet = pd.read_csv(PATH_TO_SAMPLESHEET, sep=',')\n",
    "all_tuedb_alleles_list = np.loadtxt(PATH_TO_ALL_TUEDB_ALLELES, dtype=str)\n",
    "\n",
    "count_match_6 = []\n",
    "count_match_56 = []\n",
    "count_match_456 = []\n",
    "\n",
    "if ONLY_2_DIGIT:\n",
    "    most_probable_german_alleles = list(set([allele[:4] for allele in most_probable_german_alleles]))\n",
    "\n",
    "for index, row in tuedb_samplesheet.iterrows():\n",
    "    donor_code = row['sample']\n",
    "    tp_alleles = eval(tuedb_df[tuedb_df['donor_code'] == donor_code]['all_hla_alleles_donor'].values[0])\n",
    "    tp_alleles = [f'{a[0]}*{a[1:3]}:{a[3:]}' for a in tp_alleles]\n",
    "    \n",
    "    logging.debug(f'Donor: {donor_code}')\n",
    "\n",
    "    if ONLY_2_DIGIT:\n",
    "        tp_alleles = list(set([allele[:4] for allele in tp_alleles]))\n",
    "\n",
    "    match_of_prediction = bruteforce_most_probable_alleles(tp_alleles, most_probable_german_alleles)\n",
    "    \n",
    "    if len(tp_alleles) == 6:\n",
    "        count_match_6.append(match_of_prediction)\n",
    "        count_match_56.append(match_of_prediction)\n",
    "        count_match_456.append(match_of_prediction)\n",
    "    if len(tp_alleles) == 5:\n",
    "        count_match_56.append(match_of_prediction)\n",
    "        count_match_456.append(match_of_prediction)\n",
    "    if len(tp_alleles) == 4:\n",
    "        count_match_456.append(match_of_prediction)\n",
    "\n",
    "#print(f'On average (only looking at 6 allele donors) {np.mean(count_match_6)*100:.2f} % of alleles from {len(count_match_6)} donors with 6 alleles were predicted correctly.')\n",
    "#print(f'On average (only looking at 5 and 6 allele donors) {np.mean(count_match_56)*100:.2f} % of alleles from {len(count_match_56)} donors with 5 or 6 alleles were predicted correctly.')\n",
    "print(f'On average (only looking at 4 and 5 and 6 allele donors) {np.mean(count_match_456)*100:.2f} % of alleles from {len(count_match_456)} donors with 4 or 5 or 6 alleles were predicted correctly.')\n"
   ]
  }
 ],
 "metadata": {
  "kernelspec": {
   "display_name": "Python 3",
   "language": "python",
   "name": "python3"
  },
  "language_info": {
   "codemirror_mode": {
    "name": "ipython",
    "version": 3
   },
   "file_extension": ".py",
   "mimetype": "text/x-python",
   "name": "python",
   "nbconvert_exporter": "python",
   "pygments_lexer": "ipython3",
   "version": "3.12.0"
  }
 },
 "nbformat": 4,
 "nbformat_minor": 2
}
